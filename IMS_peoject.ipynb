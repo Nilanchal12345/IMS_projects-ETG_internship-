{
  "nbformat": 4,
  "nbformat_minor": 0,
  "metadata": {
    "colab": {
      "name": "IMS_peoject.ipynb",
      "provenance": [],
      "collapsed_sections": []
    },
    "kernelspec": {
      "name": "python3",
      "display_name": "Python 3"
    },
    "language_info": {
      "name": "python"
    }
  },
  "cells": [
    {
      "cell_type": "code",
      "metadata": {
        "id": "YQjH28mQ9lX_"
      },
      "source": [
        "records={11011:{\"product\":\"Rice\",\"type\":\"food\", \"code\":11,\"price\":1000,\"quantity\":2},\n",
        "         11012:{\"product\":\"wheat\",\"type\":\"food\",\"code\":12,\"price\":2000,\"quantity\":12},\n",
        "         11013:{\"product\":\"corn\",\"type\":\"food\",\"code\":13,\"price\":700,\"quantity\":5},\n",
        "         11014:{\"product\":\"pulses\",\"type\":\"food\",\"code\":14,\"price\":400,\"quantity\":8},\n",
        "         11015:{\"product\":\"biscuits\",\"type\":\"food\",\"code\":15,\"price\":500,\"quantity\":2},\n",
        "         11016:{\"product\":\"chocolate\",\"type\":\"food\",\"code\":16,\"price\":200,\"quantity\":6},\n",
        "         11017:{\"product\":\"candy\",\"type\":\"food\",\"code\":17,\"price\":100,\"quantity\":6},\n",
        "         11018:{\"product\":\"patato\",\"type\":\"vegetables\",\"code\":18,\"price\":58,\"quantity\":10},\n",
        "         11019:{\"product\":\"tomato\",\"type\":\"vegetable\",\"code\":19,\"price\":90,\"quantity\":11},\n",
        "         11020:{\"product\":\"onion\",\"type\":\"vegetable\",\"code\":20,\"price\":110,\"quantity\":12},\n",
        "         11021:{\"product\":\"brinjal\",\"type\":\"vegetable\",\"code\":21,\"price\":120,\"quantity\":23},\n",
        "         11022:{\"product\":\"carrot\",\"type\":\"vegetable\",\"code\":22,\"price\":140,\"quantity\":34},\n",
        "         11023:{\"product\":\"mango\",\"type\":\"fruit\",\"code\":23,\"price\":150,\"quantity\":20},\n",
        "         11024:{\"product\":\"graips\",\"type\":\"fruit\",\"code\":24,\"price\":160,\"quantity\":24},\n",
        "         11025:{\"product\":\"banana\",\"type\":\"fruit\",\"code\":25,\"price\":120,\"quantity\":50},\n",
        "         11026:{\"product\":\"pineapple\",\"type\":\"fruit\",\"code\":26,\"price\":150,\"quantity\":30},\n",
        "         11027:{\"product\":\"apple\",\"type\":\"fruit\",\"code\":27,\"price\":200,\"quantity\":23},\n",
        "         11028:{\"product\":\"watermelon\",\"type\":\"fruit\",\"code\":28,\"price\":160,\"quantity\":50},\n",
        "         11029:{\"product\":\"kivi\",\"type\":\"fruit\",\"code\":29,\"price\":180,\"quantity\":23},\n",
        "         11030:{\"product\":\"papaya\",\"type\":\"fruit\",\"code\":30,\"price\":120,\"quantity\":22},\n",
        "         11031:{\"product\":\"light\",\"type\":\"electronic\",\"code\":31,\"price\":233,\"quantity\":44},\n",
        "         11032:{\"product\":\"wires\",\"type\":\"electronic\",\"code\":32,\"price\":255,\"quantity\":23},\n",
        "         11033:{\"product\":\"mouses\",\"type\":\"electronic\",\"code\":33,\"price\":234,\"quantity\":34},\n",
        "         11034:{\"product\":\"handbags\",\"type\":\"accessory\",\"code\":34,\"price\":345,\"quantity\":34},\n",
        "         11035:{\"product\":\"belt\",\"type\":\"accessory\",\"code\":35,\"price\":300,\"quantity\":22},\n",
        "         11036:{\"product\":\"scarf\",\"type\":\"accessory\",\"code\":36,\"price\":400,\"quantity\":25},\n",
        "         11037:{\"product\":\"umbrella\",\"type\":\"accessory\",\"code\":37,\"price\":400,\"quantity\":40},\n",
        "         11038:{\"product\":\"gloves\",\"type\":\"accessory\",\"code\":38,\"price\":200,\"quantity\":22},\n",
        "         11039:{\"product\":\"books\",\"type\":\"accessory\",\"code\":39,\"price\":300,\"quantity\":28},\n",
        "         11040:{\"product\":\"pens\",\"type\":\"accessory\",\"code\":40,\"price\":200,\"quantity\":60}    \n",
        "}"
      ],
      "execution_count": 13,
      "outputs": []
    },
    {
      "cell_type": "code",
      "metadata": {
        "id": "AIg4mmULQSi0"
      },
      "source": [
        "import json"
      ],
      "execution_count": 14,
      "outputs": []
    },
    {
      "cell_type": "code",
      "metadata": {
        "id": "SFaI51HPQSmY"
      },
      "source": [
        "js=json.dumps(records)"
      ],
      "execution_count": 15,
      "outputs": []
    },
    {
      "cell_type": "code",
      "metadata": {
        "colab": {
          "base_uri": "https://localhost:8080/",
          "height": 191
        },
        "id": "cLJQs5kVQSpO",
        "outputId": "d06fa5d3-885d-4c96-99a6-940b851f8a05"
      },
      "source": [
        "js"
      ],
      "execution_count": 16,
      "outputs": [
        {
          "output_type": "execute_result",
          "data": {
            "application/vnd.google.colaboratory.intrinsic+json": {
              "type": "string"
            },
            "text/plain": [
              "'{\"11011\": {\"product\": \"Rice\", \"type\": \"food\", \"code\": 11, \"price\": 1000, \"quantity\": 2}, \"11012\": {\"product\": \"wheat\", \"type\": \"food\", \"code\": 12, \"price\": 2000, \"quantity\": 12}, \"11013\": {\"product\": \"corn\", \"type\": \"food\", \"code\": 13, \"price\": 700, \"quantity\": 5}, \"11014\": {\"product\": \"pulses\", \"type\": \"food\", \"code\": 14, \"price\": 400, \"quantity\": 8}, \"11015\": {\"product\": \"biscuits\", \"type\": \"food\", \"code\": 15, \"price\": 500, \"quantity\": 2}, \"11016\": {\"product\": \"chocolate\", \"type\": \"food\", \"code\": 16, \"price\": 200, \"quantity\": 6}, \"11017\": {\"product\": \"candy\", \"type\": \"food\", \"code\": 17, \"price\": 100, \"quantity\": 6}, \"11018\": {\"product\": \"patato\", \"type\": \"vegetables\", \"code\": 18, \"price\": 58, \"quantity\": 10}, \"11019\": {\"product\": \"tomato\", \"type\": \"vegetable\", \"code\": 19, \"price\": 90, \"quantity\": 11}, \"11020\": {\"product\": \"onion\", \"type\": \"vegetable\", \"code\": 20, \"price\": 110, \"quantity\": 12}, \"11021\": {\"product\": \"brinjal\", \"type\": \"vegetable\", \"code\": 21, \"price\": 120, \"quantity\": 23}, \"11022\": {\"product\": \"carrot\", \"type\": \"vegetable\", \"code\": 22, \"price\": 140, \"quantity\": 34}, \"11023\": {\"product\": \"mango\", \"type\": \"fruit\", \"code\": 23, \"price\": 150, \"quantity\": 20}, \"11024\": {\"product\": \"graips\", \"type\": \"fruit\", \"code\": 24, \"price\": 160, \"quantity\": 24}, \"11025\": {\"product\": \"banana\", \"type\": \"fruit\", \"code\": 25, \"price\": 120, \"quantity\": 50}, \"11026\": {\"product\": \"pineapple\", \"type\": \"fruit\", \"code\": 26, \"price\": 150, \"quantity\": 30}, \"11027\": {\"product\": \"apple\", \"type\": \"fruit\", \"code\": 27, \"price\": 200, \"quantity\": 23}, \"11028\": {\"product\": \"watermelon\", \"type\": \"fruit\", \"code\": 28, \"price\": 160, \"quantity\": 50}, \"11029\": {\"product\": \"kivi\", \"type\": \"fruit\", \"code\": 29, \"price\": 180, \"quantity\": 23}, \"11030\": {\"product\": \"papaya\", \"type\": \"fruit\", \"code\": 30, \"price\": 120, \"quantity\": 22}, \"11031\": {\"product\": \"light\", \"type\": \"electronic\", \"code\": 31, \"price\": 233, \"quantity\": 44}, \"11032\": {\"product\": \"wires\", \"type\": \"electronic\", \"code\": 32, \"price\": 255, \"quantity\": 23}, \"11033\": {\"product\": \"mouses\", \"type\": \"electronic\", \"code\": 33, \"price\": 234, \"quantity\": 34}, \"11034\": {\"product\": \"handbags\", \"type\": \"accessory\", \"code\": 34, \"price\": 345, \"quantity\": 34}, \"11035\": {\"product\": \"belt\", \"type\": \"accessory\", \"code\": 35, \"price\": 300, \"quantity\": 22}, \"11036\": {\"product\": \"scarf\", \"type\": \"accessory\", \"code\": 36, \"price\": 400, \"quantity\": 25}, \"11037\": {\"product\": \"umbrella\", \"type\": \"accessory\", \"code\": 37, \"price\": 400, \"quantity\": 40}, \"11038\": {\"product\": \"gloves\", \"type\": \"accessory\", \"code\": 38, \"price\": 200, \"quantity\": 22}, \"11039\": {\"product\": \"books\", \"type\": \"accessory\", \"code\": 39, \"price\": 300, \"quantity\": 28}, \"11040\": {\"product\": \"pens\", \"type\": \"accessory\", \"code\": 40, \"price\": 200, \"quantity\": 60}}'"
            ]
          },
          "metadata": {},
          "execution_count": 16
        }
      ]
    },
    {
      "cell_type": "code",
      "metadata": {
        "colab": {
          "base_uri": "https://localhost:8080/"
        },
        "id": "r610-hmnQSr5",
        "outputId": "ab4d3f55-3208-421b-d359-f7d0c820d4f5"
      },
      "source": [
        "records"
      ],
      "execution_count": 17,
      "outputs": [
        {
          "output_type": "execute_result",
          "data": {
            "text/plain": [
              "{11011: {'code': 11,\n",
              "  'price': 1000,\n",
              "  'product': 'Rice',\n",
              "  'quantity': 2,\n",
              "  'type': 'food'},\n",
              " 11012: {'code': 12,\n",
              "  'price': 2000,\n",
              "  'product': 'wheat',\n",
              "  'quantity': 12,\n",
              "  'type': 'food'},\n",
              " 11013: {'code': 13,\n",
              "  'price': 700,\n",
              "  'product': 'corn',\n",
              "  'quantity': 5,\n",
              "  'type': 'food'},\n",
              " 11014: {'code': 14,\n",
              "  'price': 400,\n",
              "  'product': 'pulses',\n",
              "  'quantity': 8,\n",
              "  'type': 'food'},\n",
              " 11015: {'code': 15,\n",
              "  'price': 500,\n",
              "  'product': 'biscuits',\n",
              "  'quantity': 2,\n",
              "  'type': 'food'},\n",
              " 11016: {'code': 16,\n",
              "  'price': 200,\n",
              "  'product': 'chocolate',\n",
              "  'quantity': 6,\n",
              "  'type': 'food'},\n",
              " 11017: {'code': 17,\n",
              "  'price': 100,\n",
              "  'product': 'candy',\n",
              "  'quantity': 6,\n",
              "  'type': 'food'},\n",
              " 11018: {'code': 18,\n",
              "  'price': 58,\n",
              "  'product': 'patato',\n",
              "  'quantity': 10,\n",
              "  'type': 'vegetables'},\n",
              " 11019: {'code': 19,\n",
              "  'price': 90,\n",
              "  'product': 'tomato',\n",
              "  'quantity': 11,\n",
              "  'type': 'vegetable'},\n",
              " 11020: {'code': 20,\n",
              "  'price': 110,\n",
              "  'product': 'onion',\n",
              "  'quantity': 12,\n",
              "  'type': 'vegetable'},\n",
              " 11021: {'code': 21,\n",
              "  'price': 120,\n",
              "  'product': 'brinjal',\n",
              "  'quantity': 23,\n",
              "  'type': 'vegetable'},\n",
              " 11022: {'code': 22,\n",
              "  'price': 140,\n",
              "  'product': 'carrot',\n",
              "  'quantity': 34,\n",
              "  'type': 'vegetable'},\n",
              " 11023: {'code': 23,\n",
              "  'price': 150,\n",
              "  'product': 'mango',\n",
              "  'quantity': 20,\n",
              "  'type': 'fruit'},\n",
              " 11024: {'code': 24,\n",
              "  'price': 160,\n",
              "  'product': 'graips',\n",
              "  'quantity': 24,\n",
              "  'type': 'fruit'},\n",
              " 11025: {'code': 25,\n",
              "  'price': 120,\n",
              "  'product': 'banana',\n",
              "  'quantity': 50,\n",
              "  'type': 'fruit'},\n",
              " 11026: {'code': 26,\n",
              "  'price': 150,\n",
              "  'product': 'pineapple',\n",
              "  'quantity': 30,\n",
              "  'type': 'fruit'},\n",
              " 11027: {'code': 27,\n",
              "  'price': 200,\n",
              "  'product': 'apple',\n",
              "  'quantity': 23,\n",
              "  'type': 'fruit'},\n",
              " 11028: {'code': 28,\n",
              "  'price': 160,\n",
              "  'product': 'watermelon',\n",
              "  'quantity': 50,\n",
              "  'type': 'fruit'},\n",
              " 11029: {'code': 29,\n",
              "  'price': 180,\n",
              "  'product': 'kivi',\n",
              "  'quantity': 23,\n",
              "  'type': 'fruit'},\n",
              " 11030: {'code': 30,\n",
              "  'price': 120,\n",
              "  'product': 'papaya',\n",
              "  'quantity': 22,\n",
              "  'type': 'fruit'},\n",
              " 11031: {'code': 31,\n",
              "  'price': 233,\n",
              "  'product': 'light',\n",
              "  'quantity': 44,\n",
              "  'type': 'electronic'},\n",
              " 11032: {'code': 32,\n",
              "  'price': 255,\n",
              "  'product': 'wires',\n",
              "  'quantity': 23,\n",
              "  'type': 'electronic'},\n",
              " 11033: {'code': 33,\n",
              "  'price': 234,\n",
              "  'product': 'mouses',\n",
              "  'quantity': 34,\n",
              "  'type': 'electronic'},\n",
              " 11034: {'code': 34,\n",
              "  'price': 345,\n",
              "  'product': 'handbags',\n",
              "  'quantity': 34,\n",
              "  'type': 'accessory'},\n",
              " 11035: {'code': 35,\n",
              "  'price': 300,\n",
              "  'product': 'belt',\n",
              "  'quantity': 22,\n",
              "  'type': 'accessory'},\n",
              " 11036: {'code': 36,\n",
              "  'price': 400,\n",
              "  'product': 'scarf',\n",
              "  'quantity': 25,\n",
              "  'type': 'accessory'},\n",
              " 11037: {'code': 37,\n",
              "  'price': 400,\n",
              "  'product': 'umbrella',\n",
              "  'quantity': 40,\n",
              "  'type': 'accessory'},\n",
              " 11038: {'code': 38,\n",
              "  'price': 200,\n",
              "  'product': 'gloves',\n",
              "  'quantity': 22,\n",
              "  'type': 'accessory'},\n",
              " 11039: {'code': 39,\n",
              "  'price': 300,\n",
              "  'product': 'books',\n",
              "  'quantity': 28,\n",
              "  'type': 'accessory'},\n",
              " 11040: {'code': 40,\n",
              "  'price': 200,\n",
              "  'product': 'pens',\n",
              "  'quantity': 60,\n",
              "  'type': 'accessory'}}"
            ]
          },
          "metadata": {},
          "execution_count": 17
        }
      ]
    },
    {
      "cell_type": "code",
      "metadata": {
        "id": "aH-VS7sZUTDu"
      },
      "source": [
        "nila=open(\"records.json\",\"w\")\n",
        "nila.write(js)\n",
        "nila.close()"
      ],
      "execution_count": 20,
      "outputs": []
    },
    {
      "cell_type": "code",
      "metadata": {
        "id": "M-HWvpHCVgSx"
      },
      "source": [
        "nila=open(\"records.json\",\"r\")\n",
        "txt=nila.read()\n",
        "nila.close()"
      ],
      "execution_count": 21,
      "outputs": []
    },
    {
      "cell_type": "code",
      "metadata": {
        "colab": {
          "base_uri": "https://localhost:8080/",
          "height": 157
        },
        "id": "xeowUSuAVgWM",
        "outputId": "af9d5966-493b-420f-e96b-e4fa4c662dc4"
      },
      "source": [
        "txt"
      ],
      "execution_count": 22,
      "outputs": [
        {
          "output_type": "execute_result",
          "data": {
            "application/vnd.google.colaboratory.intrinsic+json": {
              "type": "string"
            },
            "text/plain": [
              "'{\"11011\": {\"product\": \"Rice\", \"type\": \"food\", \"code\": 11, \"price\": 1000, \"quantity\": 2}, \"11012\": {\"product\": \"wheat\", \"type\": \"food\", \"code\": 12, \"price\": 2000, \"quantity\": 12}, \"11013\": {\"product\": \"corn\", \"type\": \"food\", \"code\": 13, \"price\": 700, \"quantity\": 5}, \"11014\": {\"product\": \"pulses\", \"type\": \"food\", \"code\": 14, \"price\": 400, \"quantity\": 8}, \"11015\": {\"product\": \"biscuits\", \"type\": \"food\", \"code\": 15, \"price\": 500, \"quantity\": 2}, \"11016\": {\"product\": \"chocolate\", \"type\": \"food\", \"code\": 16, \"price\": 200, \"quantity\": 6}, \"11017\": {\"product\": \"candy\", \"type\": \"food\", \"code\": 17, \"price\": 100, \"quantity\": 6}, \"11018\": {\"product\": \"patato\", \"type\": \"vegetables\", \"code\": 18, \"price\": 58, \"quantity\": 10}, \"11019\": {\"product\": \"tomato\", \"type\": \"vegetable\", \"code\": 19, \"price\": 90, \"quantity\": 11}, \"11020\": {\"product\": \"onion\", \"type\": \"vegetable\", \"code\": 20, \"price\": 110, \"quantity\": 12}, \"11021\": {\"product\": \"brinjal\", \"type\": \"vegetable\", \"code\": 21, \"price\": 120, \"quantity\": 23}, \"11022\": {\"product\": \"carrot\", \"type\": \"vegetable\", \"code\": 22, \"price\": 140, \"quantity\": 34}, \"11023\": {\"product\": \"mango\", \"type\": \"fruit\", \"code\": 23, \"price\": 150, \"quantity\": 20}, \"11024\": {\"product\": \"graips\", \"type\": \"fruit\", \"code\": 24, \"price\": 160, \"quantity\": 24}, \"11025\": {\"product\": \"banana\", \"type\": \"fruit\", \"code\": 25, \"price\": 120, \"quantity\": 50}, \"11026\": {\"product\": \"pineapple\", \"type\": \"fruit\", \"code\": 26, \"price\": 150, \"quantity\": 30}, \"11027\": {\"product\": \"apple\", \"type\": \"fruit\", \"code\": 27, \"price\": 200, \"quantity\": 23}, \"11028\": {\"product\": \"watermelon\", \"type\": \"fruit\", \"code\": 28, \"price\": 160, \"quantity\": 50}, \"11029\": {\"product\": \"kivi\", \"type\": \"fruit\", \"code\": 29, \"price\": 180, \"quantity\": 23}, \"11030\": {\"product\": \"papaya\", \"type\": \"fruit\", \"code\": 30, \"price\": 120, \"quantity\": 22}, \"11031\": {\"product\": \"light\", \"type\": \"electronic\", \"code\": 31, \"price\": 233, \"quantity\": 44}, \"11032\": {\"product\": \"wires\", \"type\": \"electronic\", \"code\": 32, \"price\": 255, \"quantity\": 23}, \"11033\": {\"product\": \"mouses\", \"type\": \"electronic\", \"code\": 33, \"price\": 234, \"quantity\": 34}, \"11034\": {\"product\": \"handbags\", \"type\": \"accessory\", \"code\": 34, \"price\": 345, \"quantity\": 34}, \"11035\": {\"product\": \"belt\", \"type\": \"accessory\", \"code\": 35, \"price\": 300, \"quantity\": 22}, \"11036\": {\"product\": \"scarf\", \"type\": \"accessory\", \"code\": 36, \"price\": 400, \"quantity\": 25}, \"11037\": {\"product\": \"umbrella\", \"type\": \"accessory\", \"code\": 37, \"price\": 400, \"quantity\": 40}, \"11038\": {\"product\": \"gloves\", \"type\": \"accessory\", \"code\": 38, \"price\": 200, \"quantity\": 22}, \"11039\": {\"product\": \"books\", \"type\": \"accessory\", \"code\": 39, \"price\": 300, \"quantity\": 28}, \"11040\": {\"product\": \"pens\", \"type\": \"accessory\", \"code\": 40, \"price\": 200, \"quantity\": 60}}'"
            ]
          },
          "metadata": {},
          "execution_count": 22
        }
      ]
    },
    {
      "cell_type": "code",
      "metadata": {
        "id": "sT0qtXnUWf3Q"
      },
      "source": [
        "records=json.loads(txt)"
      ],
      "execution_count": 23,
      "outputs": []
    },
    {
      "cell_type": "code",
      "metadata": {
        "colab": {
          "base_uri": "https://localhost:8080/"
        },
        "id": "t6yaN_5HWf6E",
        "outputId": "2c466830-6dde-4b3e-9e3f-02a3cf77147e"
      },
      "source": [
        "records"
      ],
      "execution_count": 24,
      "outputs": [
        {
          "output_type": "execute_result",
          "data": {
            "text/plain": [
              "{'11011': {'code': 11,\n",
              "  'price': 1000,\n",
              "  'product': 'Rice',\n",
              "  'quantity': 2,\n",
              "  'type': 'food'},\n",
              " '11012': {'code': 12,\n",
              "  'price': 2000,\n",
              "  'product': 'wheat',\n",
              "  'quantity': 12,\n",
              "  'type': 'food'},\n",
              " '11013': {'code': 13,\n",
              "  'price': 700,\n",
              "  'product': 'corn',\n",
              "  'quantity': 5,\n",
              "  'type': 'food'},\n",
              " '11014': {'code': 14,\n",
              "  'price': 400,\n",
              "  'product': 'pulses',\n",
              "  'quantity': 8,\n",
              "  'type': 'food'},\n",
              " '11015': {'code': 15,\n",
              "  'price': 500,\n",
              "  'product': 'biscuits',\n",
              "  'quantity': 2,\n",
              "  'type': 'food'},\n",
              " '11016': {'code': 16,\n",
              "  'price': 200,\n",
              "  'product': 'chocolate',\n",
              "  'quantity': 6,\n",
              "  'type': 'food'},\n",
              " '11017': {'code': 17,\n",
              "  'price': 100,\n",
              "  'product': 'candy',\n",
              "  'quantity': 6,\n",
              "  'type': 'food'},\n",
              " '11018': {'code': 18,\n",
              "  'price': 58,\n",
              "  'product': 'patato',\n",
              "  'quantity': 10,\n",
              "  'type': 'vegetables'},\n",
              " '11019': {'code': 19,\n",
              "  'price': 90,\n",
              "  'product': 'tomato',\n",
              "  'quantity': 11,\n",
              "  'type': 'vegetable'},\n",
              " '11020': {'code': 20,\n",
              "  'price': 110,\n",
              "  'product': 'onion',\n",
              "  'quantity': 12,\n",
              "  'type': 'vegetable'},\n",
              " '11021': {'code': 21,\n",
              "  'price': 120,\n",
              "  'product': 'brinjal',\n",
              "  'quantity': 23,\n",
              "  'type': 'vegetable'},\n",
              " '11022': {'code': 22,\n",
              "  'price': 140,\n",
              "  'product': 'carrot',\n",
              "  'quantity': 34,\n",
              "  'type': 'vegetable'},\n",
              " '11023': {'code': 23,\n",
              "  'price': 150,\n",
              "  'product': 'mango',\n",
              "  'quantity': 20,\n",
              "  'type': 'fruit'},\n",
              " '11024': {'code': 24,\n",
              "  'price': 160,\n",
              "  'product': 'graips',\n",
              "  'quantity': 24,\n",
              "  'type': 'fruit'},\n",
              " '11025': {'code': 25,\n",
              "  'price': 120,\n",
              "  'product': 'banana',\n",
              "  'quantity': 50,\n",
              "  'type': 'fruit'},\n",
              " '11026': {'code': 26,\n",
              "  'price': 150,\n",
              "  'product': 'pineapple',\n",
              "  'quantity': 30,\n",
              "  'type': 'fruit'},\n",
              " '11027': {'code': 27,\n",
              "  'price': 200,\n",
              "  'product': 'apple',\n",
              "  'quantity': 23,\n",
              "  'type': 'fruit'},\n",
              " '11028': {'code': 28,\n",
              "  'price': 160,\n",
              "  'product': 'watermelon',\n",
              "  'quantity': 50,\n",
              "  'type': 'fruit'},\n",
              " '11029': {'code': 29,\n",
              "  'price': 180,\n",
              "  'product': 'kivi',\n",
              "  'quantity': 23,\n",
              "  'type': 'fruit'},\n",
              " '11030': {'code': 30,\n",
              "  'price': 120,\n",
              "  'product': 'papaya',\n",
              "  'quantity': 22,\n",
              "  'type': 'fruit'},\n",
              " '11031': {'code': 31,\n",
              "  'price': 233,\n",
              "  'product': 'light',\n",
              "  'quantity': 44,\n",
              "  'type': 'electronic'},\n",
              " '11032': {'code': 32,\n",
              "  'price': 255,\n",
              "  'product': 'wires',\n",
              "  'quantity': 23,\n",
              "  'type': 'electronic'},\n",
              " '11033': {'code': 33,\n",
              "  'price': 234,\n",
              "  'product': 'mouses',\n",
              "  'quantity': 34,\n",
              "  'type': 'electronic'},\n",
              " '11034': {'code': 34,\n",
              "  'price': 345,\n",
              "  'product': 'handbags',\n",
              "  'quantity': 34,\n",
              "  'type': 'accessory'},\n",
              " '11035': {'code': 35,\n",
              "  'price': 300,\n",
              "  'product': 'belt',\n",
              "  'quantity': 22,\n",
              "  'type': 'accessory'},\n",
              " '11036': {'code': 36,\n",
              "  'price': 400,\n",
              "  'product': 'scarf',\n",
              "  'quantity': 25,\n",
              "  'type': 'accessory'},\n",
              " '11037': {'code': 37,\n",
              "  'price': 400,\n",
              "  'product': 'umbrella',\n",
              "  'quantity': 40,\n",
              "  'type': 'accessory'},\n",
              " '11038': {'code': 38,\n",
              "  'price': 200,\n",
              "  'product': 'gloves',\n",
              "  'quantity': 22,\n",
              "  'type': 'accessory'},\n",
              " '11039': {'code': 39,\n",
              "  'price': 300,\n",
              "  'product': 'books',\n",
              "  'quantity': 28,\n",
              "  'type': 'accessory'},\n",
              " '11040': {'code': 40,\n",
              "  'price': 200,\n",
              "  'product': 'pens',\n",
              "  'quantity': 60,\n",
              "  'type': 'accessory'}}"
            ]
          },
          "metadata": {},
          "execution_count": 24
        }
      ]
    },
    {
      "cell_type": "code",
      "metadata": {
        "colab": {
          "base_uri": "https://localhost:8080/"
        },
        "id": "uWdLMjVXWgRA",
        "outputId": "fcba38a4-da5c-4b18-bec5-f87bfe752c0c"
      },
      "source": [
        "records['11011']"
      ],
      "execution_count": 26,
      "outputs": [
        {
          "output_type": "execute_result",
          "data": {
            "text/plain": [
              "{'code': 11, 'price': 1000, 'product': 'Rice', 'quantity': 2, 'type': 'food'}"
            ]
          },
          "metadata": {},
          "execution_count": 26
        }
      ]
    },
    {
      "cell_type": "code",
      "metadata": {
        "colab": {
          "base_uri": "https://localhost:8080/"
        },
        "id": "fLl2udExWgTS",
        "outputId": "19fe7c04-ebad-404f-c4f4-23d7d7085158"
      },
      "source": [
        "records['11022']"
      ],
      "execution_count": 28,
      "outputs": [
        {
          "output_type": "execute_result",
          "data": {
            "text/plain": [
              "{'code': 22,\n",
              " 'price': 140,\n",
              " 'product': 'carrot',\n",
              " 'quantity': 34,\n",
              " 'type': 'vegetable'}"
            ]
          },
          "metadata": {},
          "execution_count": 28
        }
      ]
    },
    {
      "cell_type": "code",
      "metadata": {
        "colab": {
          "base_uri": "https://localhost:8080/"
        },
        "id": "opqqvkZzWgXf",
        "outputId": "bfe10296-f981-421f-99ee-68eabcb5ad09"
      },
      "source": [
        "records['11034']"
      ],
      "execution_count": 29,
      "outputs": [
        {
          "output_type": "execute_result",
          "data": {
            "text/plain": [
              "{'code': 34,\n",
              " 'price': 345,\n",
              " 'product': 'handbags',\n",
              " 'quantity': 34,\n",
              " 'type': 'accessory'}"
            ]
          },
          "metadata": {},
          "execution_count": 29
        }
      ]
    },
    {
      "cell_type": "code",
      "metadata": {
        "id": "unWQarOoXep9"
      },
      "source": [
        "import time"
      ],
      "execution_count": 31,
      "outputs": []
    },
    {
      "cell_type": "code",
      "metadata": {
        "colab": {
          "base_uri": "https://localhost:8080/",
          "height": 35
        },
        "id": "_fSnVoa8Xesx",
        "outputId": "0edb3ce1-1508-40e8-ea75-b12c72e65f23"
      },
      "source": [
        "time.ctime()"
      ],
      "execution_count": 32,
      "outputs": [
        {
          "output_type": "execute_result",
          "data": {
            "application/vnd.google.colaboratory.intrinsic+json": {
              "type": "string"
            },
            "text/plain": [
              "'Tue Sep  7 08:27:50 2021'"
            ]
          },
          "metadata": {},
          "execution_count": 32
        }
      ]
    },
    {
      "cell_type": "code",
      "metadata": {
        "id": "UquVwY-CXp1r"
      },
      "source": [
        ""
      ],
      "execution_count": null,
      "outputs": []
    },
    {
      "cell_type": "code",
      "metadata": {
        "id": "KhkuDG9OXp6K"
      },
      "source": [
        ""
      ],
      "execution_count": null,
      "outputs": []
    },
    {
      "cell_type": "code",
      "metadata": {
        "id": "Pxjnqoj5Xp92"
      },
      "source": [
        ""
      ],
      "execution_count": null,
      "outputs": []
    }
  ]
}